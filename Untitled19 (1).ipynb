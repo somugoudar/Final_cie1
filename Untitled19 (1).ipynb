{
  "nbformat": 4,
  "nbformat_minor": 0,
  "metadata": {
    "colab": {
      "provenance": []
    },
    "kernelspec": {
      "name": "python3",
      "display_name": "Python 3"
    },
    "language_info": {
      "name": "python"
    }
  },
  "cells": [
    {
      "cell_type": "code",
      "source": [
        "import pandas as pd\n",
        "from sklearn.model_selection import train_test_split\n",
        "from sklearn.linear_model import LogisticRegression\n",
        "from sklearn.metrics import accuracy_score,mean_squared_error\n",
        "\n",
        "df=pd.read_csv(\"/content/fish.csv\")\n",
        "\n",
        "x=df[['nofish','xb','zg']]\n",
        "y=df['count']\n",
        "\n",
        "print('sample of the data:',df.head())\n",
        "print('Summary of the dataset:',df.describe())\n",
        "print('checking the null_values:',df.isnull().sum())\n",
        "\n",
        "x_train,x_test,y_train,y_test=train_test_split(x,y,test_size=0.2,random_state=42)\n",
        "\n",
        "model=LogisticRegression()\n",
        "model.fit(x_train,y_train)\n",
        "\n",
        "y_pred=model.predict(x_test)\n",
        "\n",
        "print('Accuracy of this model is:',accuracy_score(y_pred,y_test))\n",
        "print('mean squared errors of this model is  :',mean_squared_error(y_pred,y_test))\n",
        "\n",
        "\n",
        "\n"
      ],
      "metadata": {
        "colab": {
          "base_uri": "https://localhost:8080/"
        },
        "id": "ZvW5Eht2UF8X",
        "outputId": "96cc9655-5a50-4ee2-c0f0-cb8602dfb271"
      },
      "execution_count": null,
      "outputs": [
        {
          "output_type": "stream",
          "name": "stdout",
          "text": [
            "sample of the data:    nofish  livebait  camper  persons  child        xb        zg  count\n",
            "0       1         0       0        1      0 -0.896315  3.050405      0\n",
            "1       0         1       1        1      0 -0.558345  1.746149      0\n",
            "2       0         1       0        1      0 -0.401731  0.279939      0\n",
            "3       0         1       1        2      1 -0.956298 -0.601526      0\n",
            "4       0         1       0        1      0  0.436891  0.527709      1\n",
            "Summary of the dataset:            nofish    livebait      camper    persons       child          xb  \\\n",
            "count  250.000000  250.000000  250.000000  250.00000  250.000000  250.000000   \n",
            "mean     0.296000    0.864000    0.588000    2.52800    0.684000    0.973796   \n",
            "std      0.457407    0.343476    0.493182    1.11273    0.850315    1.440277   \n",
            "min      0.000000    0.000000    0.000000    1.00000    0.000000   -3.275050   \n",
            "25%      0.000000    1.000000    0.000000    2.00000    0.000000    0.008267   \n",
            "50%      0.000000    1.000000    1.000000    2.00000    0.000000    0.954550   \n",
            "75%      1.000000    1.000000    1.000000    4.00000    1.000000    1.963855   \n",
            "max      1.000000    1.000000    1.000000    4.00000    3.000000    5.352674   \n",
            "\n",
            "               zg       count  \n",
            "count  250.000000  250.000000  \n",
            "mean     0.252323    3.296000  \n",
            "std      2.102391   11.635028  \n",
            "min     -5.625944    0.000000  \n",
            "25%     -1.252724    0.000000  \n",
            "50%      0.605079    0.000000  \n",
            "75%      1.993237    2.000000  \n",
            "max      4.263185  149.000000  \n",
            "checking the null_values: nofish      0\n",
            "livebait    0\n",
            "camper      0\n",
            "persons     0\n",
            "child       0\n",
            "xb          0\n",
            "zg          0\n",
            "count       0\n",
            "dtype: int64\n",
            "Accuracy of this model is: 0.64\n",
            "mean squared errors of this model is  : 41.46\n"
          ]
        },
        {
          "output_type": "stream",
          "name": "stderr",
          "text": [
            "/usr/local/lib/python3.10/dist-packages/sklearn/linear_model/_logistic.py:458: ConvergenceWarning: lbfgs failed to converge (status=1):\n",
            "STOP: TOTAL NO. of ITERATIONS REACHED LIMIT.\n",
            "\n",
            "Increase the number of iterations (max_iter) or scale the data as shown in:\n",
            "    https://scikit-learn.org/stable/modules/preprocessing.html\n",
            "Please also refer to the documentation for alternative solver options:\n",
            "    https://scikit-learn.org/stable/modules/linear_model.html#logistic-regression\n",
            "  n_iter_i = _check_optimize_result(\n"
          ]
        }
      ]
    }
  ]
}